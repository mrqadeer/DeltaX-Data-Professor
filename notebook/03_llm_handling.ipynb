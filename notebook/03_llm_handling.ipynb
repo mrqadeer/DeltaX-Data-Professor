{
 "cells": [
  {
   "cell_type": "code",
   "execution_count": 2,
   "metadata": {},
   "outputs": [],
   "source": [
    "d = {\"Google Gemini\": {\"api_key\": \"key\",\n",
    "                       \"model\": \"gemini-1.5-pro-002\", \"temperature\": 0.7}}"
   ]
  },
  {
   "cell_type": "code",
   "execution_count": 5,
   "metadata": {},
   "outputs": [
    {
     "name": "stdout",
     "output_type": "stream",
     "text": [
      "gemini-1.5-pro-002\n"
     ]
    }
   ],
   "source": [
    "for provider in d:\n",
    "    print(d[provider][\"model\"])"
   ]
  },
  {
   "cell_type": "code",
   "execution_count": 1,
   "metadata": {},
   "outputs": [],
   "source": [
    "import pandas as pd\n",
    "df = pd.read_csv('../data/csv/List of Orders.csv')\n",
    "\n",
    "df = df.dropna(subset=['City'])\n",
    "\n",
    "# Count customers belonging to City Delhi\n",
    "delhi_customers = df[df['City'] == 'Delhi'].shape[0]"
   ]
  },
  {
   "cell_type": "code",
   "execution_count": 2,
   "metadata": {},
   "outputs": [
    {
     "data": {
      "text/plain": [
       "25"
      ]
     },
     "execution_count": 2,
     "metadata": {},
     "output_type": "execute_result"
    }
   ],
   "source": [
    "delhi_customers"
   ]
  }
 ],
 "metadata": {
  "kernelspec": {
   "display_name": "deltaX",
   "language": "python",
   "name": "python3"
  },
  "language_info": {
   "codemirror_mode": {
    "name": "ipython",
    "version": 3
   },
   "file_extension": ".py",
   "mimetype": "text/x-python",
   "name": "python",
   "nbconvert_exporter": "python",
   "pygments_lexer": "ipython3",
   "version": "3.12.5"
  }
 },
 "nbformat": 4,
 "nbformat_minor": 2
}
