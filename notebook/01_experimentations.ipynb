{
 "cells": [
  {
   "cell_type": "code",
   "execution_count": 1,
   "metadata": {},
   "outputs": [],
   "source": [
    "\n",
    "\n",
    "PANDASAI_MODELS = [\"BambooLLM\"]\n",
    "OPENAI_MODELS = [\n",
    "    \"gpt-4\",\n",
    "    \"gpt-4o\",\n",
    "    \"gpt-4o-mini\",\n",
    "    \"gpt-4-0613\",\n",
    "    \"gpt-4-turbo\",\n",
    "    \"gpt-4-turbo-0613\",\n",
    "    \"gpt-3.5-turbo\",\n",
    "    \"gpt-3.5-turbo-0613\",\n",
    "    \"gpt-3.5-turbo-instruct\",\n",
    "    \"gpt-3.5-turbo-16k\",\n",
    "    \"gpt-3.5-turbo-16k-0613\",\n",
    "]\n",
    "GOOGLE_MODLES = [\"gemini-1.5-pro\", \"gemini-1.0-pro-002\", \"gemini-1.5-flash\"]\n",
    "GROQ_MODELS = ['llama-3.1-70b-versatile', 'llama-3.2-1b-preview',\n",
    "               'llama3-groq-8b-8192-tool-use-preview',\n",
    "               'llama-3.2-11b-vision-preview',\n",
    "               'llama3-groq-70b-8192-tool-use-preview',\n",
    "               'llama3-8b-8192', 'llama-3.2-11b-text-preview',\n",
    "               'llama-guard-3-8b', 'llama-3.1-8b-instant',\n",
    "               'llama-3.2-90b-text-preview', 'llama-3.2-3b-preview',\n",
    "               'llama3-70b-8192']\n",
    "ANTROPIC_MODELS = ['claude-3-5-sonnet-20240620', 'claude-3-sonnet-20240229',\n",
    "                   'claude-3-opus-20240229', 'claude-3-haiku-20240307']\n",
    "\n",
    "PROVIDERS = {\n",
    "    \"PandasAI\": {\"key\": \"PANDASAI_API_KEY\", \"models\": PANDASAI_MODELS},\n",
    "    \"OpenAI\": {\"key\": \"OPENAI_API_KEY\", \"models\": OPENAI_MODELS},\n",
    "    \"Google Gemini\": {\"key\": \"GOOGLE_API_KEY\", \"models\": GOOGLE_MODLES},\n",
    "    \"Groq\": {\"key\": \"GROQ_API_KEY\", \"models\": GROQ_MODELS},\n",
    "    \"Antropic\": {\"key\": \"ANTROPIC_API_KEY\", \"models\": ANTROPIC_MODELS}\n",
    "}"
   ]
  },
  {
   "cell_type": "code",
   "execution_count": 5,
   "metadata": {},
   "outputs": [
    {
     "name": "stdout",
     "output_type": "stream",
     "text": [
      "['BambooLLM']\n",
      "['gpt-4', 'gpt-4o', 'gpt-4o-mini', 'gpt-4-0613', 'gpt-4-turbo', 'gpt-4-turbo-0613', 'gpt-3.5-turbo', 'gpt-3.5-turbo-0613', 'gpt-3.5-turbo-instruct', 'gpt-3.5-turbo-16k', 'gpt-3.5-turbo-16k-0613']\n",
      "['gemini-1.5-pro', 'gemini-1.0-pro-002', 'gemini-1.5-flash']\n",
      "['llama-3.1-70b-versatile', 'llama-3.2-1b-preview', 'llama3-groq-8b-8192-tool-use-preview', 'llama-3.2-11b-vision-preview', 'llama3-groq-70b-8192-tool-use-preview', 'llama3-8b-8192', 'llama-3.2-11b-text-preview', 'llama-guard-3-8b', 'llama-3.1-8b-instant', 'llama-3.2-90b-text-preview', 'llama-3.2-3b-preview', 'llama3-70b-8192']\n",
      "['claude-3-5-sonnet-20240620', 'claude-3-sonnet-20240229', 'claude-3-opus-20240229', 'claude-3-haiku-20240307']\n"
     ]
    }
   ],
   "source": [
    "for provider in PROVIDERS:\n",
    "    print(PROVIDERS[provider][\"models\"])"
   ]
  },
  {
   "cell_type": "code",
   "execution_count": 2,
   "metadata": {},
   "outputs": [
    {
     "data": {
      "text/plain": [
       "('Antropic', 'dfd')"
      ]
     },
     "execution_count": 2,
     "metadata": {},
     "output_type": "execute_result"
    }
   ],
   "source": [
    "def model_key(provider_choice: str):\n",
    "\n",
    "    key = None\n",
    "    for provider in PROVIDERS:\n",
    "        if provider == provider_choice:\n",
    "            key = input(f\"Enter your {provider} API key: \")\n",
    "    return provider, key\n",
    "\n",
    "\n",
    "model_key(\"PandasAI\")"
   ]
  },
  {
   "cell_type": "code",
   "execution_count": 19,
   "metadata": {},
   "outputs": [
    {
     "data": {
      "text/plain": [
       "['gpt-4-1106-preview',\n",
       " 'chatgpt-4o-latest',\n",
       " 'gpt-4-0125-preview',\n",
       " 'gpt-3.5-turbo-0125',\n",
       " 'gpt-4o-mini',\n",
       " 'gpt-4o-mini-2024-07-18',\n",
       " 'gpt-4-turbo-preview',\n",
       " 'gpt-3.5-turbo',\n",
       " 'gpt-4-turbo',\n",
       " 'gpt-4-turbo-2024-04-09',\n",
       " 'gpt-4o-2024-08-06',\n",
       " 'gpt-3.5-turbo-16k',\n",
       " 'gpt-3.5-turbo-1106',\n",
       " 'gpt-3.5-turbo-instruct-0914',\n",
       " 'gpt-4-0613',\n",
       " 'gpt-4',\n",
       " 'gpt-3.5-turbo-instruct',\n",
       " 'davinci-002',\n",
       " 'gpt-4o',\n",
       " 'gpt-4o-2024-05-13']"
      ]
     },
     "execution_count": 19,
     "metadata": {},
     "output_type": "execute_result"
    }
   ],
   "source": [
    "import os\n",
    "import openai\n",
    "\n",
    "\n",
    "def get_models(provider: str = \"PandasAI\"):\n",
    "    if provider == \"PandasAI\":\n",
    "        return [\"BambooLLM\"]\n",
    "    elif provider == \"OpenAI\":\n",
    "        api_key = os.getenv(\"OPENAI_API_KEY\")\n",
    "        client = openai.Client(api_key=api_key)\n",
    "        models = client.models.list()\n",
    "        models = models.to_dict()\n",
    "        text_chat_models = [\n",
    "            model['id'] for model in models['data']\n",
    "            if any(keyword in model['id'] for keyword in ['gpt', 'davinci', 'turbo'])\n",
    "        ]\n",
    "        return text_chat_models\n",
    "\n",
    "\n",
    "get_models(\"OpenAI\")"
   ]
  }
 ],
 "metadata": {
  "kernelspec": {
   "display_name": "Python 3",
   "language": "python",
   "name": "python3"
  },
  "language_info": {
   "codemirror_mode": {
    "name": "ipython",
    "version": 3
   },
   "file_extension": ".py",
   "mimetype": "text/x-python",
   "name": "python",
   "nbconvert_exporter": "python",
   "pygments_lexer": "ipython3",
   "version": "3.12.3"
  }
 },
 "nbformat": 4,
 "nbformat_minor": 2
}
